{
 "cells": [
  {
   "cell_type": "code",
   "execution_count": 1,
   "metadata": {},
   "outputs": [],
   "source": [
    "import random\n",
    "\n",
    "lst_1k = [random.random() for i in range(1000)]\n",
    "lst_10k = [random.random() for i in range(10000)]\n",
    "lst_100k = [random.random() for i in range(100000)]\n",
    "lst_1m = [random.random() for i in range(1000000)]"
   ]
  },
  {
   "cell_type": "code",
   "execution_count": 2,
   "metadata": {},
   "outputs": [
    {
     "name": "stdout",
     "output_type": "stream",
     "text": [
      "Wall time: 0 ns\n",
      "Wall time: 2 ms\n",
      "Wall time: 11 ms\n",
      "Wall time: 170 ms\n"
     ]
    }
   ],
   "source": [
    "%time lst_1k = [random.random() for i in range(1000)]\n",
    "%time lst_10k = [random.random() for i in range(10000)]\n",
    "%time lst_100k = [random.random() for i in range(100000)]\n",
    "%time lst_1m = [random.random() for i in range(1000000)]"
   ]
  },
  {
   "cell_type": "code",
   "execution_count": 3,
   "metadata": {},
   "outputs": [
    {
     "name": "stdout",
     "output_type": "stream",
     "text": [
      "Wall time: 2 ms\n",
      "Wall time: 12 ms\n",
      "Wall time: 120 ms\n"
     ]
    }
   ],
   "source": [
    "def linear_time(lst):\n",
    "    '''\n",
    "    O(n)\n",
    "    '''\n",
    "    for i, val in enumerate(lst):\n",
    "        lst[i] = val * 2\n",
    "    return lst\n",
    "\n",
    "%time lst = linear_time(lst_10k)\n",
    "%time lst = linear_time(lst_100k)\n",
    "%time lst = linear_time(lst_1m)"
   ]
  },
  {
   "cell_type": "code",
   "execution_count": 6,
   "metadata": {},
   "outputs": [
    {
     "name": "stdout",
     "output_type": "stream",
     "text": [
      "Wall time: 0 ns\n",
      "Wall time: 0 ns\n",
      "Wall time: 0 ns\n"
     ]
    }
   ],
   "source": [
    "def constant_time(lst):\n",
    "    '''\n",
    "    O(1)\n",
    "    '''\n",
    "    return lst[0] + 2\n",
    "\n",
    "%time c = constant_time(lst_10k)\n",
    "%time c = constant_time(lst_100k)\n",
    "%time c = constant_time(lst_1m)"
   ]
  },
  {
   "cell_type": "code",
   "execution_count": 7,
   "metadata": {},
   "outputs": [
    {
     "name": "stdout",
     "output_type": "stream",
     "text": [
      "Wall time: 73 ms\n",
      "Wall time: 6.11 s\n"
     ]
    }
   ],
   "source": [
    "def exponential_time(lst):\n",
    "    '''\n",
    "    O(n**2), O(n*m)\n",
    "    '''\n",
    "    for i, val in enumerate(lst):\n",
    "        for j in range(len(lst)):\n",
    "            lst[i] = val * j\n",
    "    return lst\n",
    "\n",
    "%time lst = exponential_time(lst_1k)\n",
    "%time lst = exponential_time(lst_10k)"
   ]
  },
  {
   "cell_type": "code",
   "execution_count": 9,
   "metadata": {},
   "outputs": [
    {
     "name": "stdout",
     "output_type": "stream",
     "text": [
      "Wall time: 16 ms\n",
      "Wall time: 33 ms\n",
      "Wall time: 282 ms\n",
      "Wall time: 11 ms\n",
      "Wall time: 9.04 ms\n",
      "Wall time: 114 ms\n"
     ]
    }
   ],
   "source": [
    "# eliminating unnecessary loop operations\n",
    "\n",
    "import math\n",
    "def unnecessary(lst, x):\n",
    "    rv = []\n",
    "    for i in range(len(lst)):\n",
    "        rv.append(lst[i] * math.sqrt(x))\n",
    "    return rv\n",
    "\n",
    "def better(lst, x):\n",
    "    rv = []\n",
    "    sqrt = math.sqrt(x)\n",
    "    for i in range(len(lst)):\n",
    "        rv.append(lst[i] * sqrt)\n",
    "    return rv\n",
    "\n",
    "%time lst = unnecessary(lst_10k, 2)\n",
    "%time lst = unnecessary(lst_100k, 2)\n",
    "%time lst = unnecessary(lst_1m, 2)\n",
    "\n",
    "%time lst = better(lst_10k, 2)\n",
    "%time lst = better(lst_100k, 2)\n",
    "%time lst = better(lst_1m, 2)"
   ]
  },
  {
   "cell_type": "code",
   "execution_count": 10,
   "metadata": {},
   "outputs": [
    {
     "name": "stdout",
     "output_type": "stream",
     "text": [
      "Wall time: 664 ms\n"
     ]
    }
   ],
   "source": [
    "# Restrict loop range\n",
    "\n",
    "def better_exponential_time(lst):\n",
    "    '''\n",
    "    O(n**2), O(n*m); restricted range\n",
    "    '''\n",
    "    for i, val in enumerate(lst):\n",
    "        for j in range(len(lst) - 1000, len(lst)):\n",
    "            lst[i] = val * j\n",
    "    return lst\n",
    "\n",
    "%time lst = better_exponential_time(lst_10k)"
   ]
  },
  {
   "cell_type": "code",
   "execution_count": 11,
   "metadata": {},
   "outputs": [
    {
     "name": "stdout",
     "output_type": "stream",
     "text": [
      "8\n",
      "9\n"
     ]
    }
   ],
   "source": [
    "def sub_linear_time(lst):\n",
    "    '''\n",
    "    O(<n)\n",
    "    '''\n",
    "    n = len(lst)\n",
    "    for i in range(n-1000, n):\n",
    "        lst[i] = i * 2\n",
    "    return lst\n",
    "\n",
    "lst = [random.random() for i in range(10)]\n",
    "for i in range(len(lst) - 2, len(lst)):\n",
    "    print(i)"
   ]
  },
  {
   "cell_type": "code",
   "execution_count": 12,
   "metadata": {},
   "outputs": [
    {
     "name": "stdout",
     "output_type": "stream",
     "text": [
      "False\n"
     ]
    }
   ],
   "source": [
    "# Break from loops as soon as possible\n",
    "\n",
    "lst = [-1, 2, -3, 4, 0]\n",
    "all_pos = True\n",
    "for i in lst:\n",
    "    if i <= 0:\n",
    "        all_pos = False\n",
    "        break\n",
    "print(all_pos)"
   ]
  },
  {
   "cell_type": "code",
   "execution_count": 13,
   "metadata": {},
   "outputs": [],
   "source": [
    "# Use dictionaries and sets over lists for lookups\n",
    "lst_100k = [str(random.random()) for i in range(100000)]\n",
    "lst_1m = [str(random.random()) for i in range(1000000)]\n",
    "lst_10m = [str(random.random()) for i in range(10000000)]\n",
    "\n",
    "d_100k = {str(random.random()):i for i in range(100000)}\n",
    "d_1m = {str(random.random()):i for i in range(1000000)}\n",
    "d_10m = {str(random.random()):i for i in range(10000000)}\n",
    "\n",
    "rand_to_lookup = str(random.random())"
   ]
  },
  {
   "cell_type": "code",
   "execution_count": 15,
   "metadata": {},
   "outputs": [
    {
     "name": "stdout",
     "output_type": "stream",
     "text": [
      "Wall time: 1e+03 µs\n",
      "Wall time: 25 ms\n",
      "Wall time: 269 ms\n"
     ]
    },
    {
     "data": {
      "text/plain": [
       "False"
      ]
     },
     "execution_count": 15,
     "metadata": {},
     "output_type": "execute_result"
    }
   ],
   "source": [
    "%time rand_to_lookup in lst_100k\n",
    "%time rand_to_lookup in lst_1m\n",
    "%time rand_to_lookup in lst_10m"
   ]
  },
  {
   "cell_type": "code",
   "execution_count": 16,
   "metadata": {},
   "outputs": [
    {
     "name": "stdout",
     "output_type": "stream",
     "text": [
      "Wall time: 0 ns\n",
      "Wall time: 0 ns\n",
      "Wall time: 0 ns\n"
     ]
    },
    {
     "data": {
      "text/plain": [
       "False"
      ]
     },
     "execution_count": 16,
     "metadata": {},
     "output_type": "execute_result"
    }
   ],
   "source": [
    "%time rand_to_lookup in d_100k\n",
    "%time rand_to_lookup in d_1m\n",
    "%time rand_to_lookup in d_10m"
   ]
  },
  {
   "cell_type": "code",
   "execution_count": null,
   "metadata": {},
   "outputs": [],
   "source": []
  }
 ],
 "metadata": {
  "kernelspec": {
   "display_name": "base",
   "language": "python",
   "name": "python3"
  },
  "language_info": {
   "codemirror_mode": {
    "name": "ipython",
    "version": 3
   },
   "file_extension": ".py",
   "mimetype": "text/x-python",
   "name": "python",
   "nbconvert_exporter": "python",
   "pygments_lexer": "ipython3",
   "version": "3.7.13"
  },
  "orig_nbformat": 4
 },
 "nbformat": 4,
 "nbformat_minor": 2
}
