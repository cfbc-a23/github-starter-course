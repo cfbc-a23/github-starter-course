{
  "nbformat": 4,
  "nbformat_minor": 0,
  "metadata": {
    "colab": {
      "provenance": [],
      "authorship_tag": "ABX9TyOQZ+omi1OeZI4bBGhOqlLs",
      "include_colab_link": true
    },
    "kernelspec": {
      "name": "python3",
      "display_name": "Python 3"
    },
    "language_info": {
      "name": "python"
    }
  },
  "cells": [
    {
      "cell_type": "markdown",
      "metadata": {
        "id": "view-in-github",
        "colab_type": "text"
      },
      "source": [
        "<a href=\"https://colab.research.google.com/github/lim1an/github-starter-course/blob/main/notes0907.ipynb\" target=\"_parent\"><img src=\"https://colab.research.google.com/assets/colab-badge.svg\" alt=\"Open In Colab\"/></a>"
      ]
    },
    {
      "cell_type": "code",
      "execution_count": 4,
      "metadata": {
        "colab": {
          "base_uri": "https://localhost:8080/"
        },
        "id": "OSdgx81z9DMV",
        "outputId": "23d64fd5-3e42-47d1-c658-a552fa45406e"
      },
      "outputs": [
        {
          "output_type": "stream",
          "name": "stdout",
          "text": [
            "CPU times: user 2.08 ms, sys: 9 µs, total: 2.09 ms\n",
            "Wall time: 4.18 ms\n"
          ]
        }
      ],
      "source": [
        "import random\n",
        "\n",
        "lst_10k = [random.random() for i in range(10000)]"
      ]
    },
    {
      "cell_type": "code",
      "source": [
        "def linear_time(lst):\n",
        "  '''\n",
        "  O(n)\n",
        "  Operations proportional to the size of the list\n",
        "  '''\n",
        "  for i, val in enumerate(lst):\n",
        "    lst[i] = val*2\n",
        "  return lst\n",
        "\n",
        "%time lst = linear_time(lst_10k)"
      ],
      "metadata": {
        "colab": {
          "base_uri": "https://localhost:8080/"
        },
        "id": "2GOxAjBc9gwD",
        "outputId": "ebd1c409-6b97-413d-ecda-958a46270438"
      },
      "execution_count": 5,
      "outputs": [
        {
          "output_type": "stream",
          "name": "stdout",
          "text": [
            "CPU times: user 2.85 ms, sys: 0 ns, total: 2.85 ms\n",
            "Wall time: 3.33 ms\n"
          ]
        }
      ]
    },
    {
      "cell_type": "code",
      "source": [
        "def constant_time(lst):\n",
        "  '''\n",
        "  O(1)\n",
        "  operate only once for the whole function\n",
        "  '''\n",
        "  return lst[0]+2\n",
        "\n",
        "%time c = constant_time(lst_10k) # c: just a name, not a property\n",
        "# %timeit c = constant_time(lst_10k)"
      ],
      "metadata": {
        "colab": {
          "base_uri": "https://localhost:8080/"
        },
        "id": "QUjdQgA4-kDE",
        "outputId": "aa568e9a-5ac2-4141-c5db-b6e580a7655e"
      },
      "execution_count": 23,
      "outputs": [
        {
          "output_type": "stream",
          "name": "stdout",
          "text": [
            "CPU times: user 5 µs, sys: 0 ns, total: 5 µs\n",
            "Wall time: 8.58 µs\n"
          ]
        }
      ]
    },
    {
      "cell_type": "code",
      "source": [
        "def exponential_time(lst): #??? no result pop up\n",
        "  '''\n",
        "  O(n**2)\n",
        "  for each entry to the loop, there's another loop inside\n",
        "  so exponential\n",
        "  '''\n",
        "  for i, val in enumerate(lst):\n",
        "    for j in range(len(lst)):\n",
        "      lst[i] = val * j\n",
        "  return lst\n",
        "\n",
        "  %time lst = exponential_time(lst_10k)"
      ],
      "metadata": {
        "id": "KDBn_tLY-xqu"
      },
      "execution_count": 25,
      "outputs": []
    },
    {
      "cell_type": "markdown",
      "source": [
        "**Strategies for improving efficiency**\n",
        "* eliminating unnecessary loop operations\n",
        "\n"
      ],
      "metadata": {
        "id": "C6GqO2W8AVtS"
      }
    },
    {
      "cell_type": "code",
      "source": [
        "import math\n",
        "\n",
        "def unnecessary(lst,x):\n",
        "  '''\n",
        "  x is a singular number\n",
        "  no need to operate the square root over and over again inside the loop\n",
        "  '''\n",
        "  rv = []\n",
        "  for i in range(len(lst)):\n",
        "    rv.append(lst[i] * math.sqrt(x))\n",
        "  return rv\n",
        "\n",
        "def better(lst, x):\n",
        "  rv = []\n",
        "  sqrt = math.sqrt(x)\n",
        "  for i in range(len(lst)):\n",
        "    rv.append(lst[i] * sqrt)\n",
        "  return rv\n",
        "\n",
        "%time lst = unnecessary(lst_10k, 2)\n",
        "%time lst = better(lst_10k, 2)"
      ],
      "metadata": {
        "colab": {
          "base_uri": "https://localhost:8080/"
        },
        "id": "jFSVfDPwArf9",
        "outputId": "a0ed02a0-e25c-4b13-c8df-caf55a6dfd29"
      },
      "execution_count": 16,
      "outputs": [
        {
          "output_type": "stream",
          "name": "stdout",
          "text": [
            "CPU times: user 2.45 ms, sys: 0 ns, total: 2.45 ms\n",
            "Wall time: 2.47 ms\n",
            "CPU times: user 1.43 ms, sys: 0 ns, total: 1.43 ms\n",
            "Wall time: 1.44 ms\n"
          ]
        }
      ]
    },
    {
      "cell_type": "markdown",
      "source": [
        "* restrict loop range\n",
        "\n",
        "*possible senarios: in algebra, sometimes only part of elements in a matrix need to be checked instead of being looped over the whole matrix*"
      ],
      "metadata": {
        "id": "-9tl7fFFDNkK"
      }
    },
    {
      "cell_type": "code",
      "source": [
        "def better_exponential_time(lst):\n",
        "  '''\n",
        "  O(n**2), O(n*m)\n",
        "  for each entry to the loop, there's another loop inside\n",
        "  so exponential\n",
        "  '''\n",
        "  for i, val in enumerate(lst):\n",
        "    for j in range(len(lst)-1000, len(lst)): # if this is the range that we need\n",
        "      lst[i] = val * j\n",
        "  return lst\n",
        "\n",
        "  %time lst = better_exponential_time(lst_10k)"
      ],
      "metadata": {
        "id": "VWFviWnwDRmV"
      },
      "execution_count": 26,
      "outputs": []
    },
    {
      "cell_type": "code",
      "source": [
        "def sub_linear_time(lst):\n",
        "  '''\n",
        "  O(<n)\n",
        "  #Operations kinda proportional to list length\n",
        "  but the range is restricted, so less than the list length\n",
        "  '''\n",
        "  n = len(lst)\n",
        "  for i in range(n - 1000, n):\n",
        "    lst[i] = i * 2\n",
        "  return lst\n",
        "\n",
        "%time lst = sub_linear_time(lst_10k)"
      ],
      "metadata": {
        "colab": {
          "base_uri": "https://localhost:8080/"
        },
        "id": "P_wI3cxRDjsK",
        "outputId": "ca1681ff-1c00-4b10-c820-28d5bdf3ac1a"
      },
      "execution_count": 27,
      "outputs": [
        {
          "output_type": "stream",
          "name": "stdout",
          "text": [
            "CPU times: user 191 µs, sys: 0 ns, total: 191 µs\n",
            "Wall time: 194 µs\n"
          ]
        }
      ]
    },
    {
      "cell_type": "markdown",
      "source": [
        "- break from loops as soon as possible"
      ],
      "metadata": {
        "id": "m-jcOV2-FEKf"
      }
    },
    {
      "cell_type": "code",
      "source": [
        "lst = [-1, -2, -3, 4, 0]\n",
        "all_pos = True\n",
        "for i in lst:\n",
        "  if i <= 0:\n",
        "    all_pos = False\n",
        "    break # as soon as we encounter a nonpositive number, break\n",
        "print(all_pos)"
      ],
      "metadata": {
        "colab": {
          "base_uri": "https://localhost:8080/"
        },
        "id": "AB5iYQoIEFkR",
        "outputId": "e5e04b03-4558-4919-85a4-1c8b5f3291d9"
      },
      "execution_count": 28,
      "outputs": [
        {
          "output_type": "stream",
          "name": "stdout",
          "text": [
            "False\n"
          ]
        }
      ]
    },
    {
      "cell_type": "code",
      "source": [
        "lst_1k = [str(random.random()) for i in range(1000)]\n",
        "\n",
        "d_1k = {str(random.random()): i for i in range(1000)}\n",
        "\n",
        "rand_look_up = str(random.random())\n",
        "\n",
        "%time rand_look_up in d_1k #argument of %time???\n",
        "#\"in\" to whether check the string of a random number exist in the lst\n",
        "#\"in\" dictionary: only check the keys, not values\n",
        "#if wanna check values, need loop to go inside the values of each key"
      ],
      "metadata": {
        "colab": {
          "base_uri": "https://localhost:8080/"
        },
        "id": "6qNID36fGc5x",
        "outputId": "9df4399e-de15-48a2-988e-5a7cead7cf4e"
      },
      "execution_count": 29,
      "outputs": [
        {
          "output_type": "stream",
          "name": "stdout",
          "text": [
            "CPU times: user 49 µs, sys: 3 µs, total: 52 µs\n",
            "Wall time: 56 µs\n"
          ]
        },
        {
          "output_type": "execute_result",
          "data": {
            "text/plain": [
              "False"
            ]
          },
          "metadata": {},
          "execution_count": 29
        }
      ]
    },
    {
      "cell_type": "code",
      "source": [
        "s_1k = {str(random.random()) for i in range(1000)}\n",
        "len(s_1k)"
      ],
      "metadata": {
        "colab": {
          "base_uri": "https://localhost:8080/"
        },
        "id": "BuZWpxtDHl84",
        "outputId": "bb361869-a134-46fb-8e60-1923a38aa57f"
      },
      "execution_count": 31,
      "outputs": [
        {
          "output_type": "execute_result",
          "data": {
            "text/plain": [
              "1000"
            ]
          },
          "metadata": {},
          "execution_count": 31
        }
      ]
    },
    {
      "cell_type": "code",
      "source": [],
      "metadata": {
        "id": "8ubWaYGBH-wS"
      },
      "execution_count": null,
      "outputs": []
    }
  ]
}