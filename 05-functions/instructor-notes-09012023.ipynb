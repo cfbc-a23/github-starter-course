{
 "cells": [
  {
   "cell_type": "code",
   "execution_count": 3,
   "metadata": {},
   "outputs": [
    {
     "name": "stdout",
     "output_type": "stream",
     "text": [
      "NEGATIVE\n"
     ]
    }
   ],
   "source": [
    "# 1 \n",
    "x = -1\n",
    "if x == 0:\n",
    "    s = \"ZERO\"\n",
    "elif x > 0:\n",
    "    s = \"POSITIVE\"\n",
    "else:\n",
    "    s = \"NEGATIVE\"\n",
    "print(s)"
   ]
  },
  {
   "cell_type": "code",
   "execution_count": 7,
   "metadata": {},
   "outputs": [
    {
     "name": "stdout",
     "output_type": "stream",
     "text": [
      "6 1\n",
      "12 2\n",
      "18 3\n"
     ]
    }
   ],
   "source": [
    "lb, ub, p, q = 1, 20, 2, 3\n",
    "n = 0\n",
    "for i in range(lb, ub + 1):\n",
    "    if i % p == 0 and i % q == 0:\n",
    "        n = n + 1\n",
    "        print(i, n)\n",
    "        # n += 1\n",
    "#print(n)"
   ]
  },
  {
   "cell_type": "code",
   "execution_count": 11,
   "metadata": {},
   "outputs": [
    {
     "name": "stdout",
     "output_type": "stream",
     "text": [
      "-1 1\n",
      "-3 2\n",
      "2\n"
     ]
    }
   ],
   "source": [
    "lst = [-1, 2, -3, 4, 0]\n",
    "n = 0\n",
    "for i in lst:\n",
    "    if i < 0:\n",
    "        n += 1\n",
    "        print(i, n)\n",
    "print(n)"
   ]
  },
  {
   "cell_type": "code",
   "execution_count": 14,
   "metadata": {},
   "outputs": [
    {
     "name": "stdout",
     "output_type": "stream",
     "text": [
      "False\n"
     ]
    }
   ],
   "source": [
    "all_pos = True\n",
    "for i in lst:\n",
    "    if i <= 0:\n",
    "        all_pos = False\n",
    "        break\n",
    "print(all_pos)"
   ]
  },
  {
   "cell_type": "code",
   "execution_count": 24,
   "metadata": {},
   "outputs": [
    {
     "name": "stdout",
     "output_type": "stream",
     "text": [
      "{'x': 10, 'y': 20, 'z': 30}\n"
     ]
    }
   ],
   "source": [
    "keys, values = [\"x\", \"y\", \"z\"], [10, 20, 30]\n",
    "rv = {}\n",
    "n = len(keys)\n",
    "for i in range(n):\n",
    "    rv[keys[i]] = values[i]\n",
    "\n",
    "rv = {}\n",
    "for i, key in enumerate(keys):\n",
    "    #print(i, key)\n",
    "    rv[key] = values[i]\n",
    "\n",
    "rv = {}\n",
    "for k, v in zip(keys, values):\n",
    "    rv[k] = v\n",
    "\n",
    "rv = {k:v for k, v in zip(keys, values)}\n",
    "\n",
    "rv = dict(zip(keys, values))\n",
    "\n",
    "print(rv)"
   ]
  },
  {
   "cell_type": "code",
   "execution_count": 31,
   "metadata": {},
   "outputs": [
    {
     "name": "stdout",
     "output_type": "stream",
     "text": [
      "{'barren': 3, 'vegetation-rich': 4, 'flooded': 2}\n",
      "vegetation-rich\n"
     ]
    },
    {
     "data": {
      "text/plain": [
       "'vegetation-rich'"
      ]
     },
     "execution_count": 31,
     "metadata": {},
     "output_type": "execute_result"
    }
   ],
   "source": [
    "band_red = [[1, 10, 255],\n",
    "            [200, 155, 20],\n",
    "            [30, 20, 10]]\n",
    "band_nir = [[1, 20, 255],\n",
    "            [10, 20, 30],\n",
    "            [200, 155, 20]]\n",
    "\n",
    "n = len(band_red)\n",
    "label_freqs = {}\n",
    "highest_freq_label = \"\"\n",
    "highest_count = 0\n",
    "for i in range(n):\n",
    "    for j in range(n):\n",
    "        ndvi = ((band_nir[i][j] - band_red[i][j])\n",
    "                / (band_nir[i][j] + band_red[i][j]))\n",
    "        if ndvi > 0.25:\n",
    "            label = \"vegetation-rich\"\n",
    "        elif ndvi > -0.25:\n",
    "            label = \"barren\" \n",
    "        else:\n",
    "            label = \"flooded\"\n",
    "        label_freqs[label] = label_freqs.get(label, 0) + 1\n",
    "\n",
    "        if label_freqs[label] > highest_count:\n",
    "            highest_freq_label = label \n",
    "            highest_count = label_freqs[label]\n",
    "\n",
    "print(label_freqs)\n",
    "print(highest_freq_label)\n",
    "\n",
    "# Or:\n",
    "max(label_freqs, key=label_freqs.get)"
   ]
  },
  {
   "cell_type": "code",
   "execution_count": 35,
   "metadata": {},
   "outputs": [
    {
     "name": "stdout",
     "output_type": "stream",
     "text": [
      "<class 'list'>\n",
      "<class 'list'>\n",
      "<class 'list'>\n"
     ]
    },
    {
     "data": {
      "text/plain": [
       "[[1.0, 10.0, 255.0], [200.0, 155.0, 20.0], [30.0, 20.0, 10.0]]"
      ]
     },
     "execution_count": 35,
     "metadata": {},
     "output_type": "execute_result"
    }
   ],
   "source": [
    "import csv\n",
    "band_red = []\n",
    "with open('band_red.csv') as f:\n",
    "    reader = csv.reader(f, quoting=csv.QUOTE_NONNUMERIC)\n",
    "    for row in reader:\n",
    "        print(type(row))\n",
    "        band_red.append(row)\n",
    "band_red"
   ]
  },
  {
   "cell_type": "code",
   "execution_count": 106,
   "metadata": {},
   "outputs": [
    {
     "name": "stdout",
     "output_type": "stream",
     "text": [
      "0.13436424411240122\n",
      "0.8474337369372327\n",
      "0.763774618976614\n"
     ]
    }
   ],
   "source": [
    "import random\n",
    "\n",
    "random.seed(1)\n",
    "for i in range(3):\n",
    "    print(random.random())"
   ]
  },
  {
   "cell_type": "code",
   "execution_count": 93,
   "metadata": {},
   "outputs": [
    {
     "name": "stdout",
     "output_type": "stream",
     "text": [
      "tails\n"
     ]
    }
   ],
   "source": [
    "flip = random.random()\n",
    "\n",
    "if flip < 0.5:\n",
    "    print(\"heads\")\n",
    "else:\n",
    "    print(\"tails\")"
   ]
  },
  {
   "cell_type": "code",
   "execution_count": 96,
   "metadata": {},
   "outputs": [],
   "source": [
    "# How many times do I need to flip a coin to get 5 heads in a row?\n",
    "n_trials = 10\n",
    "sim_results = []\n",
    "random.seed(0)\n",
    "\n",
    "for i in range(n_trials):\n",
    "    target = 5\n",
    "    total_flips = 0\n",
    "    consecutive_heads = 0\n",
    "\n",
    "    while consecutive_heads < target:\n",
    "        # Flip coin\n",
    "        flip = random.random()\n",
    "\n",
    "        # increment consecutive_heads by 1 if heads\n",
    "        if flip < 0.5:\n",
    "            consecutive_heads += 1\n",
    "        else:\n",
    "            # if tails, reset consecutive heads to 0\n",
    "            consecutive_heads = 0\n",
    "        # increment total_flips after coin has been flipped\n",
    "        total_flips += 1\n",
    "    sim_results.append(total_flips)\n",
    "    #print(total_flips)"
   ]
  },
  {
   "cell_type": "code",
   "execution_count": 98,
   "metadata": {},
   "outputs": [
    {
     "data": {
      "text/plain": [
       "74.1"
      ]
     },
     "execution_count": 98,
     "metadata": {},
     "output_type": "execute_result"
    }
   ],
   "source": [
    "sum(sim_results) / len(sim_results)"
   ]
  },
  {
   "cell_type": "code",
   "execution_count": 120,
   "metadata": {},
   "outputs": [
    {
     "data": {
      "text/plain": [
       "8"
      ]
     },
     "execution_count": 120,
     "metadata": {},
     "output_type": "execute_result"
    }
   ],
   "source": [
    "def f(x=1, z=1):\n",
    "    '''\n",
    "    Solves the equation x**2 + x + z\n",
    "    Input: x (float or int), z (float or int)\n",
    "    Returns: Solution to equation (float or int)\n",
    "    '''\n",
    "    rv = x ** 2 + x + z\n",
    "    return rv\n",
    "\n",
    "#f(x=1, z=1)\n",
    "f(2, 2)"
   ]
  },
  {
   "cell_type": "code",
   "execution_count": 118,
   "metadata": {},
   "outputs": [
    {
     "name": "stdout",
     "output_type": "stream",
     "text": [
      "\u001b[1;31mSignature:\u001b[0m \u001b[0mf\u001b[0m\u001b[1;33m(\u001b[0m\u001b[0mx\u001b[0m\u001b[1;33m,\u001b[0m \u001b[0mz\u001b[0m\u001b[1;33m)\u001b[0m\u001b[1;33m\u001b[0m\u001b[1;33m\u001b[0m\u001b[0m\n",
      "\u001b[1;31mDocstring:\u001b[0m\n",
      "Solves the equation x**2 + x + z\n",
      "Input: x (float or int), z (float or int)\n",
      "Returns: Solution to equation (float or int)\n",
      "\u001b[1;31mFile:\u001b[0m      c:\\users\\jon clindaniel\\appdata\\local\\temp\\ipykernel_3360\\612883346.py\n",
      "\u001b[1;31mType:\u001b[0m      function\n"
     ]
    }
   ],
   "source": [
    "f?\n",
    "#random.random?"
   ]
  },
  {
   "cell_type": "code",
   "execution_count": 110,
   "metadata": {},
   "outputs": [
    {
     "data": {
      "text/plain": [
       "3"
      ]
     },
     "execution_count": 110,
     "metadata": {},
     "output_type": "execute_result"
    }
   ],
   "source": [
    "f(1, 1)"
   ]
  },
  {
   "cell_type": "code",
   "execution_count": 113,
   "metadata": {},
   "outputs": [
    {
     "data": {
      "text/plain": [
       "3"
      ]
     },
     "execution_count": 113,
     "metadata": {},
     "output_type": "execute_result"
    }
   ],
   "source": [
    "f(1, z=1)"
   ]
  },
  {
   "cell_type": "code",
   "execution_count": 1,
   "metadata": {},
   "outputs": [],
   "source": [
    "%load_ext autoreload\n",
    "%autoreload 2"
   ]
  },
  {
   "cell_type": "code",
   "execution_count": 2,
   "metadata": {},
   "outputs": [],
   "source": [
    "import sample_module"
   ]
  },
  {
   "cell_type": "code",
   "execution_count": 4,
   "metadata": {},
   "outputs": [
    {
     "data": {
      "text/plain": [
       "3"
      ]
     },
     "execution_count": 4,
     "metadata": {},
     "output_type": "execute_result"
    }
   ],
   "source": [
    "sample_module.f(1, 1)"
   ]
  },
  {
   "cell_type": "code",
   "execution_count": 5,
   "metadata": {},
   "outputs": [
    {
     "data": {
      "text/plain": [
       "14"
      ]
     },
     "execution_count": 5,
     "metadata": {},
     "output_type": "execute_result"
    }
   ],
   "source": [
    "import example_module\n",
    "example_module.f(3, 2)"
   ]
  },
  {
   "cell_type": "code",
   "execution_count": 6,
   "metadata": {},
   "outputs": [],
   "source": [
    "def calc_ndvi(p_red, p_nir):\n",
    "    return (p_nir - p_red) / (p_nir + p_red)\n",
    "\n",
    "def label_ndvi(ndvi):\n",
    "    if ndvi > 0.25:\n",
    "        return \"vegetation-rich\"\n",
    "    elif ndvi > -0.25:\n",
    "        return \"barren\" \n",
    "    else:\n",
    "        return \"flooded\" \n",
    "\n",
    "def label_region(band_red, band_nir):\n",
    "    n = len(band_red)\n",
    "    label_freqs = {}\n",
    "    highest_freq_label = \"\"\n",
    "    highest_count = 0\n",
    "    for i in range(n):\n",
    "        for j in range(n):\n",
    "            ndvi = calc_ndvi(band_red[i][j], band_nir[i][j])\n",
    "            label = label_ndvi(ndvi)\n",
    "            label_freqs[label] = label_freqs.get(label, 0) + 1\n",
    "\n",
    "            if label_freqs[label] > highest_count:\n",
    "                highest_freq_label = label \n",
    "                highest_count = label_freqs[label]\n",
    "    return highest_freq_label\n",
    "\n"
   ]
  },
  {
   "cell_type": "code",
   "execution_count": 9,
   "metadata": {},
   "outputs": [
    {
     "data": {
      "text/plain": [
       "'vegetation-rich'"
      ]
     },
     "execution_count": 9,
     "metadata": {},
     "output_type": "execute_result"
    }
   ],
   "source": [
    "band_red = [[1, 10, 255],\n",
    "            [200, 155, 20],\n",
    "            [30, 20, 10]]\n",
    "band_nir = [[1, 20, 255],\n",
    "            [10, 20, 30],\n",
    "            [200, 155, 20]]\n",
    "label_region(band_red, band_nir)"
   ]
  }
 ],
 "metadata": {
  "kernelspec": {
   "display_name": "base",
   "language": "python",
   "name": "python3"
  },
  "language_info": {
   "codemirror_mode": {
    "name": "ipython",
    "version": 3
   },
   "file_extension": ".py",
   "mimetype": "text/x-python",
   "name": "python",
   "nbconvert_exporter": "python",
   "pygments_lexer": "ipython3",
   "version": "3.7.13"
  },
  "orig_nbformat": 4
 },
 "nbformat": 4,
 "nbformat_minor": 2
}
