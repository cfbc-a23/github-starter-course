{
 "cells": [
  {
   "cell_type": "markdown",
   "metadata": {},
   "source": [
    "## Assignment 3 Solutions"
   ]
  },
  {
   "cell_type": "code",
   "execution_count": 13,
   "metadata": {},
   "outputs": [
    {
     "name": "stdout",
     "output_type": "stream",
     "text": [
      "Question 1 Result: 22\n"
     ]
    }
   ],
   "source": [
    "# Q1\n",
    "a = 10\n",
    "x = 2\n",
    "\n",
    "expression1 = (1 + a) * x\n",
    "\n",
    "print(\"Question 1 Result: \" + str(expression1))\n",
    "\n"
   ]
  },
  {
   "cell_type": "code",
   "execution_count": 17,
   "metadata": {},
   "outputs": [
    {
     "name": "stdout",
     "output_type": "stream",
     "text": [
      "Question 2 Result: False\n"
     ]
    }
   ],
   "source": [
    "# Q2\n",
    "\n",
    "x = 2\n",
    "lb = 1\n",
    "ub = 2\n",
    "\n",
    "expression2 = lb < x < ub\n",
    "expression2 = lb < x and x < ub\n",
    "print(\"Question 2 Result: \" + str(expression2))"
   ]
  },
  {
   "cell_type": "code",
   "execution_count": 20,
   "metadata": {},
   "outputs": [
    {
     "name": "stdout",
     "output_type": "stream",
     "text": [
      "Question 3 Result:  True\n"
     ]
    }
   ],
   "source": [
    "a = 4\n",
    "b = 3\n",
    "c = 5\n",
    "\n",
    "expression3 = a**2 + b**2 == c**2\n",
    "print(\"Question 3 Result: \", expression3)"
   ]
  },
  {
   "cell_type": "code",
   "execution_count": 29,
   "metadata": {},
   "outputs": [
    {
     "name": "stdout",
     "output_type": "stream",
     "text": [
      "True\n",
      "True\n"
     ]
    }
   ],
   "source": [
    "# Student 1\n",
    "ss = 4\n",
    "cs = 3\n",
    "stat = 1\n",
    "ws = 2\n",
    "gpa = 3.7\n",
    "thesis = False\n",
    "\n",
    "grad_elig = (((cs + stat) >= 4) \n",
    "             and (ss >= 4)\n",
    "             and (ws == 2)\n",
    "             and (gpa > 3.0 or thesis)\n",
    "            )\n",
    "\n",
    "print(grad_elig)\n",
    "\n",
    "# Student 2\n",
    "ss = 5\n",
    "cs = 0\n",
    "stat = 4\n",
    "ws = 2\n",
    "gpa = 3.0\n",
    "thesis = True\n",
    "\n",
    "grad_elig = (((cs + stat) >= 4) \n",
    "             and (ss >= 4)\n",
    "             and (ws == 2)\n",
    "             and (gpa > 3.0 or thesis)\n",
    "            )\n",
    "\n",
    "print(grad_elig)"
   ]
  },
  {
   "cell_type": "markdown",
   "metadata": {},
   "source": [
    "# Loops \n",
    "\n",
    "`for` -- repeat for a set number of times\n",
    "\n",
    "`while` -- repeat as long as boolean == True"
   ]
  },
  {
   "cell_type": "code",
   "execution_count": 40,
   "metadata": {},
   "outputs": [
    {
     "name": "stdout",
     "output_type": "stream",
     "text": [
      "0\n",
      "1\n",
      "2\n",
      "3\n",
      "4\n",
      "hello\n"
     ]
    }
   ],
   "source": [
    "# [0, 5)\n",
    "for i in range(5):\n",
    "    print(i)\n",
    "print(\"hello\")"
   ]
  },
  {
   "cell_type": "code",
   "execution_count": 44,
   "metadata": {},
   "outputs": [
    {
     "name": "stdout",
     "output_type": "stream",
     "text": [
      "0\n",
      "1\n",
      "2\n",
      "3\n",
      "4\n"
     ]
    }
   ],
   "source": [
    "i = 0\n",
    "while i < 5:\n",
    "    print(i)\n",
    "    #i = i + 1\n",
    "    i += 1"
   ]
  },
  {
   "cell_type": "code",
   "execution_count": 47,
   "metadata": {},
   "outputs": [
    {
     "name": "stdout",
     "output_type": "stream",
     "text": [
      "0\n",
      "1\n",
      "3\n",
      "4\n"
     ]
    }
   ],
   "source": [
    "for i in range(5):\n",
    "    if i != 2:\n",
    "        print(i)"
   ]
  },
  {
   "cell_type": "code",
   "execution_count": 58,
   "metadata": {},
   "outputs": [
    {
     "name": "stdout",
     "output_type": "stream",
     "text": [
      "30\n"
     ]
    }
   ],
   "source": [
    "count = 0\n",
    "# [1900, 2022)\n",
    "for i in range(1900, 2022):\n",
    "    if ((i % 4 == 0) and (i % 100 != 0)) or (i % 400 == 0):\n",
    "        #print(i)\n",
    "        #count = count + 1\n",
    "        count += 1\n",
    "print(count)"
   ]
  },
  {
   "cell_type": "code",
   "execution_count": 61,
   "metadata": {},
   "outputs": [
    {
     "name": "stdout",
     "output_type": "stream",
     "text": [
      "less than two\n",
      "less than two\n",
      "2\n",
      "greater than 2\n",
      "greater than 2\n"
     ]
    }
   ],
   "source": [
    "for i in range(5):\n",
    "    if i == 2:\n",
    "        print(i)\n",
    "    elif i > 2:\n",
    "        print('greater than 2')\n",
    "    else:\n",
    "        print('less than two')"
   ]
  },
  {
   "cell_type": "markdown",
   "metadata": {},
   "source": [
    "# Data Structure\n",
    "\n",
    "* List: `[]`"
   ]
  },
  {
   "cell_type": "code",
   "execution_count": 64,
   "metadata": {},
   "outputs": [],
   "source": [
    "colors = [\"pink\", \"yellow\", \"green\"]\n",
    "n = [1, 2, 3, 4.0]\n",
    "m = [[1, 2, 3, 4],\n",
    "     [5, 6, 7, 8],\n",
    "     [9, 10, 11, 12]]"
   ]
  },
  {
   "cell_type": "code",
   "execution_count": 65,
   "metadata": {},
   "outputs": [],
   "source": [
    "colors.append(\"blue\")"
   ]
  },
  {
   "cell_type": "code",
   "execution_count": 66,
   "metadata": {},
   "outputs": [
    {
     "data": {
      "text/plain": [
       "['pink', 'yellow', 'green', 'blue']"
      ]
     },
     "execution_count": 66,
     "metadata": {},
     "output_type": "execute_result"
    }
   ],
   "source": [
    "colors"
   ]
  },
  {
   "cell_type": "code",
   "execution_count": 67,
   "metadata": {},
   "outputs": [],
   "source": [
    "colors.remove(\"blue\")"
   ]
  },
  {
   "cell_type": "code",
   "execution_count": 68,
   "metadata": {},
   "outputs": [
    {
     "data": {
      "text/plain": [
       "['pink', 'yellow', 'green']"
      ]
     },
     "execution_count": 68,
     "metadata": {},
     "output_type": "execute_result"
    }
   ],
   "source": [
    "colors"
   ]
  },
  {
   "cell_type": "code",
   "execution_count": 69,
   "metadata": {},
   "outputs": [],
   "source": [
    "colors.extend([\"purple\", \"aqua\"])"
   ]
  },
  {
   "cell_type": "code",
   "execution_count": 70,
   "metadata": {},
   "outputs": [
    {
     "data": {
      "text/plain": [
       "['pink', 'yellow', 'green', 'purple', 'aqua']"
      ]
     },
     "execution_count": 70,
     "metadata": {},
     "output_type": "execute_result"
    }
   ],
   "source": [
    "colors"
   ]
  },
  {
   "cell_type": "code",
   "execution_count": 71,
   "metadata": {},
   "outputs": [],
   "source": [
    "colors.append([\"purple\", \"aqua\"])"
   ]
  },
  {
   "cell_type": "code",
   "execution_count": 73,
   "metadata": {},
   "outputs": [],
   "source": [
    "colors.remove([\"purple\", \"aqua\"])"
   ]
  },
  {
   "cell_type": "code",
   "execution_count": 79,
   "metadata": {},
   "outputs": [
    {
     "data": {
      "text/plain": [
       "5"
      ]
     },
     "execution_count": 79,
     "metadata": {},
     "output_type": "execute_result"
    }
   ],
   "source": [
    "\"orange\" in colors\n",
    "len(colors)"
   ]
  },
  {
   "cell_type": "code",
   "execution_count": 83,
   "metadata": {},
   "outputs": [
    {
     "name": "stdout",
     "output_type": "stream",
     "text": [
      "['pinks', 'yellows', 'greens', 'purples', 'aquas']\n"
     ]
    }
   ],
   "source": [
    "new_list = []\n",
    "for i in colors:\n",
    "    new_list.append(i + \"s\")\n",
    "print(new_list)"
   ]
  },
  {
   "cell_type": "code",
   "execution_count": 92,
   "metadata": {},
   "outputs": [
    {
     "name": "stdout",
     "output_type": "stream",
     "text": [
      "['yellow', 'purple']\n"
     ]
    }
   ],
   "source": [
    "[i + \"s\" for i in colors]\n",
    "yp = [i for i in colors if 'yellow' == i or 'purple' == i]\n",
    "print(yp)"
   ]
  },
  {
   "cell_type": "code",
   "execution_count": 88,
   "metadata": {},
   "outputs": [
    {
     "name": "stdout",
     "output_type": "stream",
     "text": [
      "1 False\n",
      "2 False\n",
      "3 False\n",
      "4 False\n",
      "5 True\n",
      "6 True\n",
      "7 True\n",
      "8 True\n",
      "9 True\n",
      "10 True\n",
      "11 True\n",
      "12 True\n"
     ]
    }
   ],
   "source": [
    "for i in m:\n",
    "    for j in i:\n",
    "        print(j, j > 4)"
   ]
  },
  {
   "cell_type": "code",
   "execution_count": 103,
   "metadata": {},
   "outputs": [
    {
     "name": "stdout",
     "output_type": "stream",
     "text": [
      "['violet', 'yellow', 'green', 'purple', 'aqua']\n"
     ]
    },
    {
     "data": {
      "text/plain": [
       "'purple'"
      ]
     },
     "execution_count": 103,
     "metadata": {},
     "output_type": "execute_result"
    }
   ],
   "source": [
    "print(colors)\n",
    "colors[0]\n",
    "colors[0] = 'violet'\n",
    "colors[:2] # [0, 2)\n",
    "colors[3:]\n",
    "colors[1:3]\n",
    "colors[-2]"
   ]
  },
  {
   "cell_type": "code",
   "execution_count": 107,
   "metadata": {},
   "outputs": [
    {
     "data": {
      "text/plain": [
       "['jclindaniel',\n",
       " 'jclindaniel',\n",
       " 'jclindaniel',\n",
       " 'jclindaniel',\n",
       " 'jclindaniel',\n",
       " 'jclindaniel',\n",
       " 'jclindaniel',\n",
       " 'jclindaniel',\n",
       " 'jclindaniel',\n",
       " 'jclindaniel']"
      ]
     },
     "execution_count": 107,
     "metadata": {},
     "output_type": "execute_result"
    }
   ],
   "source": [
    "email = \"jclindaniel@uchicago.edu\"\n",
    "email[:-13]\n",
    "email_list = [email for i in range(10)]\n",
    "[i[:-13] for i in email_list]"
   ]
  },
  {
   "cell_type": "code",
   "execution_count": 108,
   "metadata": {},
   "outputs": [
    {
     "data": {
      "text/plain": [
       "'jclindaniel'"
      ]
     },
     "execution_count": 108,
     "metadata": {},
     "output_type": "execute_result"
    }
   ],
   "source": [
    "email.replace(\"@uchicago.edu\", \"\")"
   ]
  },
  {
   "cell_type": "code",
   "execution_count": 127,
   "metadata": {},
   "outputs": [
    {
     "data": {
      "text/plain": [
       "0.4"
      ]
     },
     "execution_count": 127,
     "metadata": {},
     "output_type": "execute_result"
    }
   ],
   "source": [
    "s = \"This is a Sample Sentence\"\n",
    "tokens = s.lower() \\\n",
    "          .split()\n",
    "STOP = [\"this\", \"a\"]\n",
    "TARGET = [\"sentence\", \"sample\"]\n",
    "processed = [i for i in tokens if i not in STOP]\n",
    "len([i for i in processed if i in TARGET]) / len(tokens)"
   ]
  },
  {
   "cell_type": "markdown",
   "metadata": {},
   "source": [
    "Tuples ()"
   ]
  },
  {
   "cell_type": "code",
   "execution_count": 135,
   "metadata": {},
   "outputs": [
    {
     "name": "stdout",
     "output_type": "stream",
     "text": [
      "1\n",
      "2\n",
      "2\n",
      "1\n"
     ]
    }
   ],
   "source": [
    "x, y = 1, 2\n",
    "print(x)\n",
    "print(y)\n",
    "x, y = y, x\n",
    "print(x)\n",
    "print(y)"
   ]
  },
  {
   "cell_type": "code",
   "execution_count": 137,
   "metadata": {},
   "outputs": [
    {
     "name": "stdout",
     "output_type": "stream",
     "text": [
      "3\n",
      "7\n"
     ]
    }
   ],
   "source": [
    "for i, j in [(1, 2), (3, 4)]:\n",
    "    print(i + j)"
   ]
  },
  {
   "cell_type": "code",
   "execution_count": 111,
   "metadata": {},
   "outputs": [
    {
     "name": "stdout",
     "output_type": "stream",
     "text": [
      "0 jclindaniel@uchicago.edu\n",
      "1 jclindaniel@uchicago.edu\n",
      "2 jclindaniel@uchicago.edu\n",
      "3 jclindaniel@uchicago.edu\n",
      "4 jclindaniel@uchicago.edu\n",
      "5 jclindaniel@uchicago.edu\n",
      "6 jclindaniel@uchicago.edu\n",
      "7 jclindaniel@uchicago.edu\n",
      "8 jclindaniel@uchicago.edu\n",
      "9 jclindaniel@uchicago.edu\n"
     ]
    }
   ],
   "source": [
    "for i, j in zip([i for i in range(10)], email_list):\n",
    "    print(i, j)"
   ]
  },
  {
   "cell_type": "markdown",
   "metadata": {},
   "source": [
    "Dictionaries - {}\n",
    "\n",
    "{Key1:Value1, Key2:Value2}"
   ]
  },
  {
   "cell_type": "markdown",
   "metadata": {},
   "source": [
    "Dictionary = `{Key: Value}`"
   ]
  },
  {
   "cell_type": "code",
   "execution_count": 139,
   "metadata": {},
   "outputs": [
    {
     "data": {
      "text/plain": [
       "342111"
      ]
     },
     "execution_count": 139,
     "metadata": {},
     "output_type": "execute_result"
    }
   ],
   "source": [
    "studentId = {\"Joe\": 351060, \"Bob\": 342111}\n",
    "studentId['Bob']"
   ]
  },
  {
   "cell_type": "code",
   "execution_count": 140,
   "metadata": {},
   "outputs": [
    {
     "ename": "KeyError",
     "evalue": "'Steve'",
     "output_type": "error",
     "traceback": [
      "\u001b[1;31m---------------------------------------------------------------------------\u001b[0m",
      "\u001b[1;31mKeyError\u001b[0m                                  Traceback (most recent call last)",
      "\u001b[1;32m~\\AppData\\Local\\Temp\\ipykernel_13488\\1165434317.py\u001b[0m in \u001b[0;36m<module>\u001b[1;34m\u001b[0m\n\u001b[1;32m----> 1\u001b[1;33m \u001b[0mstudentId\u001b[0m\u001b[1;33m[\u001b[0m\u001b[1;34m'Steve'\u001b[0m\u001b[1;33m]\u001b[0m\u001b[1;33m\u001b[0m\u001b[1;33m\u001b[0m\u001b[0m\n\u001b[0m",
      "\u001b[1;31mKeyError\u001b[0m: 'Steve'"
     ]
    }
   ],
   "source": [
    "studentId['Steve']"
   ]
  },
  {
   "cell_type": "code",
   "execution_count": 146,
   "metadata": {},
   "outputs": [
    {
     "data": {
      "text/plain": [
       "342111"
      ]
     },
     "execution_count": 146,
     "metadata": {},
     "output_type": "execute_result"
    }
   ],
   "source": [
    "studentId.get('Steve', 0)\n",
    "studentId.get('Bob', 0)"
   ]
  },
  {
   "cell_type": "code",
   "execution_count": 148,
   "metadata": {},
   "outputs": [
    {
     "name": "stdout",
     "output_type": "stream",
     "text": [
      "{'Joe': 351060, 'Bob': 342111, 'Steve': 351212}\n"
     ]
    }
   ],
   "source": [
    "studentId[\"Steve\"] = 351212\n",
    "print(studentId)"
   ]
  },
  {
   "cell_type": "code",
   "execution_count": 151,
   "metadata": {},
   "outputs": [
    {
     "data": {
      "text/plain": [
       "False"
      ]
     },
     "execution_count": 151,
     "metadata": {},
     "output_type": "execute_result"
    }
   ],
   "source": [
    "\"Bob\" in studentId\n",
    "\"Carl\" in studentId"
   ]
  },
  {
   "cell_type": "code",
   "execution_count": 154,
   "metadata": {},
   "outputs": [
    {
     "data": {
      "text/plain": [
       "100"
      ]
     },
     "execution_count": 154,
     "metadata": {},
     "output_type": "execute_result"
    }
   ],
   "source": [
    "student_scores = {'Bob': [100, 90], 'Steve': [80, 70]}\n",
    "student_scores.get('Bob')[0]"
   ]
  },
  {
   "cell_type": "code",
   "execution_count": 157,
   "metadata": {},
   "outputs": [
    {
     "data": {
      "text/plain": [
       "90"
      ]
     },
     "execution_count": 157,
     "metadata": {},
     "output_type": "execute_result"
    }
   ],
   "source": [
    "student_grades = {'Bob': {'A1': 100, 'A2': 90},\n",
    "                  'Steve': {'A1': 80, 'A2': 70}}\n",
    "student_grades.get('Bob').get('A2')"
   ]
  },
  {
   "cell_type": "code",
   "execution_count": 158,
   "metadata": {},
   "outputs": [
    {
     "name": "stdout",
     "output_type": "stream",
     "text": [
      "Bob\n",
      "Steve\n"
     ]
    }
   ],
   "source": [
    "for k in student_grades.keys():\n",
    "    print(k)"
   ]
  },
  {
   "cell_type": "code",
   "execution_count": 159,
   "metadata": {},
   "outputs": [
    {
     "name": "stdout",
     "output_type": "stream",
     "text": [
      "{'A1': 100, 'A2': 90}\n",
      "{'A1': 80, 'A2': 70}\n"
     ]
    }
   ],
   "source": [
    "for v in student_grades.values():\n",
    "    print(v)"
   ]
  },
  {
   "cell_type": "code",
   "execution_count": 162,
   "metadata": {},
   "outputs": [
    {
     "name": "stdout",
     "output_type": "stream",
     "text": [
      "Bob 90\n",
      "Steve 70\n"
     ]
    }
   ],
   "source": [
    "for k, v in student_grades.items():\n",
    "    print(k, v['A2'])"
   ]
  },
  {
   "cell_type": "code",
   "execution_count": 161,
   "metadata": {},
   "outputs": [
    {
     "data": {
      "text/plain": [
       "{'Bob': 90, 'Steve': 70}"
      ]
     },
     "execution_count": 161,
     "metadata": {},
     "output_type": "execute_result"
    }
   ],
   "source": [
    "{k: v['A2'] for (k, v) in student_grades.items()}"
   ]
  },
  {
   "cell_type": "markdown",
   "metadata": {},
   "source": [
    "# Files/Data"
   ]
  },
  {
   "cell_type": "code",
   "execution_count": 168,
   "metadata": {},
   "outputs": [
    {
     "name": "stdout",
     "output_type": "stream",
     "text": [
      "{'Sunday': {'high': '34', 'low': '18'}, 'Monday': {'high': '43', 'low': '30'}, 'Tuesday': {'high': '39', 'low': '27'}, 'Wednesday': {'high': '34', 'low': '21'}, 'Thursday': {'high': '27', 'low': '16'}, 'Friday': {'high': '34', 'low': '18'}, 'Saturday': {'high': '32', 'low': '12'}}\n"
     ]
    }
   ],
   "source": [
    "import csv\n",
    "data = {}\n",
    "with open('temps.csv') as f:\n",
    "    reader = csv.reader(f)\n",
    "    for row in reader:\n",
    "        data[row[0]] = {'high': row[1], 'low': row[2]}\n",
    "print(data)"
   ]
  },
  {
   "cell_type": "code",
   "execution_count": 170,
   "metadata": {},
   "outputs": [
    {
     "name": "stdout",
     "output_type": "stream",
     "text": [
      "<_io.TextIOWrapper name='hot_cold.csv' mode='w' encoding='UTF-8'>\n"
     ]
    }
   ],
   "source": [
    "with open('hot_cold.csv', 'w') as f:\n",
    "    writer = csv.writer(f)\n",
    "    for k, v in data.items():\n",
    "        if int(v.get('high')) > 32:\n",
    "            writer.writerow([k, 'hot'])\n",
    "        else:\n",
    "            writer.writerow([k, 'cold'])"
   ]
  }
 ],
 "metadata": {
  "kernelspec": {
   "display_name": "base",
   "language": "python",
   "name": "python3"
  },
  "language_info": {
   "codemirror_mode": {
    "name": "ipython",
    "version": 3
   },
   "file_extension": ".py",
   "mimetype": "text/x-python",
   "name": "python",
   "nbconvert_exporter": "python",
   "pygments_lexer": "ipython3",
   "version": "3.7.13"
  },
  "orig_nbformat": 4
 },
 "nbformat": 4,
 "nbformat_minor": 2
}
